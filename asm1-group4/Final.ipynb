{
 "cells": [
  {
   "cell_type": "markdown",
   "id": "1d6e832d",
   "metadata": {},
   "source": [
    "# Assignment 1 \n",
    "## Sonia Dosanjh and Sinni Ma\n",
    "\n",
    "### Contributions \n",
    "- Sinni \n",
    "    - Vowels\n",
    "    - Lenght of Words\n",
    "    - Stemmed Words \n",
    "- Sonia \n",
    "    - lexical diversity \n",
    "    - Longest sentence \n",
    "    - Top Collections"
   ]
  },
  {
   "cell_type": "markdown",
   "id": "e5a18ec9",
   "metadata": {},
   "source": [
    "### Downloading Packages, loading data and assigning data"
   ]
  },
  {
   "cell_type": "code",
   "execution_count": 27,
   "id": "1c2616c0",
   "metadata": {},
   "outputs": [],
   "source": [
    "import nltk\n",
    "import numpy\n",
    "import matplotlib\n",
    "from nltk.corpus import PlaintextCorpusReader\n",
    "from nltk.corpus import gutenberg\n",
    "from nltk import sent_tokenize\n",
    "from nltk import word_tokenize\n",
    "from nltk import FreqDist\n",
    "from nltk.probability import FreqDist\n",
    "from nltk.stem import PorterStemmer\n",
    "import re\n",
    "from nltk.corpus import stopwords\n",
    "from nltk.text import Text\n",
    "from nltk.corpus import words"
   ]
  },
  {
   "cell_type": "code",
   "execution_count": 28,
   "id": "f32d7947",
   "metadata": {},
   "outputs": [
    {
     "data": {
      "text/plain": [
       "'/Users/soniama/Desktop/asm1-group4'"
      ]
     },
     "execution_count": 28,
     "metadata": {},
     "output_type": "execute_result"
    }
   ],
   "source": [
    "corpus_root = \"/Users/soniama/Desktop/asm1-group4\"\n",
    "corpus_root"
   ]
  },
  {
   "cell_type": "code",
   "execution_count": 29,
   "id": "88a6757e",
   "metadata": {},
   "outputs": [],
   "source": [
    "mycorpus = PlaintextCorpusReader(corpus_root, '.*', encoding = \"utf8\")"
   ]
  },
  {
   "cell_type": "code",
   "execution_count": 30,
   "id": "9ae493b6",
   "metadata": {},
   "outputs": [
    {
     "data": {
      "text/plain": [
       "['When', 'looking', 'at', 'words', 'in', 'a', ...]"
      ]
     },
     "execution_count": 30,
     "metadata": {},
     "output_type": "execute_result"
    }
   ],
   "source": [
    "essay = mycorpus.words('essay.txt')\n",
    "essay"
   ]
  },
  {
   "cell_type": "code",
   "execution_count": 31,
   "id": "d6c509e9",
   "metadata": {},
   "outputs": [
    {
     "data": {
      "text/plain": [
       "['Honourable', 'Senators', ',', 'Members', 'of', 'the', ...]"
      ]
     },
     "execution_count": 31,
     "metadata": {},
     "output_type": "execute_result"
    }
   ],
   "source": [
    "speech = mycorpus.words('ThroneSpeech.txt')\n",
    "speech"
   ]
  },
  {
   "cell_type": "code",
   "execution_count": 32,
   "id": "3005e7c5",
   "metadata": {},
   "outputs": [
    {
     "data": {
      "text/plain": [
       "['The', 'Project', 'Gutenberg', 'eBook', 'of', 'The', ...]"
      ]
     },
     "execution_count": 32,
     "metadata": {},
     "output_type": "execute_result"
    }
   ],
   "source": [
    "book = mycorpus.words('PlatoRepublic.txt')\n",
    "book"
   ]
  },
  {
   "cell_type": "code",
   "execution_count": 33,
   "id": "6a45bf1c",
   "metadata": {},
   "outputs": [],
   "source": [
    "with open('./essay.txt', \"r\") as essay:\n",
    "    essay = essay.read()"
   ]
  },
  {
   "cell_type": "code",
   "execution_count": 34,
   "id": "d8bac44a",
   "metadata": {},
   "outputs": [],
   "source": [
    "with open('./ThroneSpeech.txt', \"r\") as speech:\n",
    "    speech = speech.read()"
   ]
  },
  {
   "cell_type": "code",
   "execution_count": 35,
   "id": "91d37933",
   "metadata": {},
   "outputs": [],
   "source": [
    "with open('./PlatoRepublic.txt', \"r\") as book:\n",
    "    book = book.read()"
   ]
  },
  {
   "cell_type": "markdown",
   "id": "9f72ab0e",
   "metadata": {},
   "source": [
    "### Finding lenghts in words\n",
    "- This code calculates each tokens in the dataset\n",
    "- For example: \"Ok, bye!\" = 8 "
   ]
  },
  {
   "cell_type": "code",
   "execution_count": 36,
   "id": "b801aa41",
   "metadata": {},
   "outputs": [
    {
     "name": "stdout",
     "output_type": "stream",
     "text": [
      "37465\n",
      "42474\n",
      "1223208\n"
     ]
    }
   ],
   "source": [
    "print(len(essay))\n",
    "print(len(speech))\n",
    "print(len(book))"
   ]
  },
  {
   "cell_type": "markdown",
   "id": "54c1cca5",
   "metadata": {},
   "source": [
    "### Lexical Diversity refers to the ratio of different word stems/ tokens\n",
    "- For example: \"due to the fact\" = 1 word stem\n",
    "- For example: \"gigantic\" = 1 word stem\n"
   ]
  },
  {
   "cell_type": "code",
   "execution_count": 37,
   "id": "841fda22",
   "metadata": {},
   "outputs": [
    {
     "name": "stdout",
     "output_type": "stream",
     "text": [
      "0.0019217936740958228\n",
      "0.0017657861279841785\n",
      "9.319755920497576e-05\n"
     ]
    }
   ],
   "source": [
    "def lexical_diversity(corpus):\n",
    "    return len(set(corpus)) / len(corpus)\n",
    "print(lexical_diversity(essay))\n",
    "print(lexical_diversity(speech))\n",
    "print(lexical_diversity(book))"
   ]
  },
  {
   "cell_type": "markdown",
   "id": "083e317f",
   "metadata": {},
   "source": [
    "### Longest Sentence "
   ]
  },
  {
   "cell_type": "code",
   "execution_count": 38,
   "id": "b63d09f5",
   "metadata": {
    "scrolled": true
   },
   "outputs": [
    {
     "name": "stdout",
     "output_type": "stream",
     "text": [
      " According to Fukuyama, identity politics is the downfall of large-scale-socio-economic change because marginalized communities wanted to be recognized equally and \"celebrate\" their difference; examples of such communities who want to be celebrated and not reconciled, are the Indigenous who had their land stolen from them and are treated like outsiders, African Americans who continue to feel the aftermath of slavery, and women who will never be equal to men (Fukuyama, 2018 p\n"
     ]
    }
   ],
   "source": [
    "longest_sentence_essay = max(essay.split('.'), key=len)\n",
    "print(longest_sentence_essay)"
   ]
  },
  {
   "cell_type": "code",
   "execution_count": 39,
   "id": "ca1b8bb3",
   "metadata": {
    "scrolled": true
   },
   "outputs": [
    {
     "name": "stdout",
     "output_type": "stream",
     "text": [
      "\n",
      "However, the pandemic has shown that we need to keep moving\n",
      "forward even faster on a number of fronts including by:\n",
      "Expediting work to co-develop distinctions-based Indigenous\n",
      "health legislation with First Nations, Inuit, and the Métis Nation,\n",
      "and a distinctions-based mental health and wellness strategy;\n",
      "Accelerating work on the National Action Plan in response to the\n",
      "National Inquiry into Missing and Murdered Indigenous Women\n",
      "and Girls’ Calls for Justice, as well as implementation of the Truth\n",
      "and Reconciliation Commission’s Calls to Action; And continuing\n",
      "to close the infrastructure gap in Indigenous communities,\n",
      "working on a distinctions-basis with First Nations, Inuit, and the\n",
      "Métis Nation to accelerate the government’s 10-year\n",
      "\fcommitment\n"
     ]
    }
   ],
   "source": [
    "longest_sentence_speech = max(speech.split('.'), key=len)\n",
    "print(longest_sentence_speech)"
   ]
  },
  {
   "cell_type": "code",
   "execution_count": 40,
   "id": "af724b11",
   "metadata": {},
   "outputs": [
    {
     "name": "stdout",
     "output_type": "stream",
     "text": [
      " The allusion to Theages’ bridle, and to the internal oracle, or demonic sign, of Socrates, which here, as always in Plato, is only prohibitory; the remark that the salvation of any remnant of good in the present evil state of the world is due to God only; the reference to a future state of existence, which is unknown to Glaucon in the tenth book, and in which the discussions of Socrates and his disciples would be resumed; the surprise in the answers; the fanciful irony of Socrates, where he pretends that he can only describe the strange position of the philosopher in a figure of speech; the original observation that the Sophists, after all, are only the representatives and not the leaders of public opinion; the picture of the philosopher standing aside in the shower of sleet under a wall; the figure of ‘the great beast’ followed by the expression of good-will towards the common people who would not have rejected the philosopher if they had known him; the ‘right noble thought’ that the highest truths demand the greatest exactness; the hesitation of Socrates in returning once more to his well-worn theme of the idea of good; the ludicrous earnestness of Glaucon; the comparison of philosophy to a deserted maiden who marries beneath her—are some of the most interesting characteristics of the sixth book\n"
     ]
    }
   ],
   "source": [
    "longest_sentence_book = max(book.split('.'), key=len)\n",
    "print(longest_sentence_book)"
   ]
  },
  {
   "cell_type": "markdown",
   "id": "b371c467",
   "metadata": {},
   "source": [
    "### Top Collection "
   ]
  },
  {
   "cell_type": "code",
   "execution_count": 41,
   "id": "2562e411",
   "metadata": {},
   "outputs": [
    {
     "data": {
      "text/plain": [
       "[('people', 38),\n",
       " ('politics', 35),\n",
       " ('rights', 35),\n",
       " ('identity', 35),\n",
       " ('neoliberalism', 34)]"
      ]
     },
     "execution_count": 41,
     "metadata": {},
     "output_type": "execute_result"
    }
   ],
   "source": [
    "essaywords = word_tokenize(essay)\n",
    "essay = Text(essaywords)\n",
    "stop_words = set(stopwords.words('english'))\n",
    "essaywords = [word.lower() for word in essaywords if word.isalpha() and word.lower() not in stop_words]\n",
    "fdessay = FreqDist(essaywords)\n",
    "fdessay.most_common(5)"
   ]
  },
  {
   "cell_type": "code",
   "execution_count": 42,
   "id": "843aff2a",
   "metadata": {},
   "outputs": [
    {
     "name": "stdout",
     "output_type": "stream",
     "text": [
      "Displaying 25 of 38 matches:\n",
      "cracy . Democracy is in decline and people are living in the illusion that con\n",
      " hinder on production by furthering people away from their freedom in the mark\n",
      " , however as Shearmur points out , people tend to abuse it . People can have \n",
      "nts out , people tend to abuse it . People can have their individual freedoms \n",
      "governments attention shifts to the people who control the country , the rich \n",
      "m in the broader lens , Profit Over People : Neoliberalism and Global Order by\n",
      "liberalism , it is not power to the people , it is power to the wealthy . When\n",
      "ntense cumulation of wealth , where people are seen merely as consumers ( Brow\n",
      " as consumers ( Brown , 2015 ) . As people are seen as consumers , their socia\n",
      " that their government sees them as people . In the economically obsessed worl\n",
      " dictators are exceeding in keeping people in the dark . The entire narrative \n",
      " the democratic world by furthering people away from social welfare and inequa\n",
      "n feminism and rights for groups of people might be challenging ; but , is lib\n",
      "ncourages uniqueness by encouraging people to make their own decisions . Exami\n",
      " to be essential to the identity of people in the liberal defence . It is abso\n",
      ", Okin does an excellent job . Some people 's identities are inextricably boun\n",
      "o the community as a whole , weaker people are frequently disregarded . This f\n",
      "t of human reliance , including how people may both provide and receive care ,\n",
      "tible with that of liberalism since people value their independence , and cont\n",
      "that sets his apart from the rest . People identity 's forces a societal narra\n",
      " Identity Politics . She states how people relate Hilary Clintons loss to her \n",
      "a white mans rhetoric that confuses people who are not comfortable seeing the \n",
      "considers identify politics to give people recognition , so they are part of t\n",
      "ty politics brings recognition that people would otherwise be denied of , her \n",
      "sues that do n't directly concern [ people with different identities ] '' ( Mc\n",
      "Displaying 25 of 35 matches:\n",
      ". This is a frequent occurrence in politics and can lead to misinformation bei\n",
      "neoliberalism as source to control politics and governmental decisions , and t\n",
      "knows it ? The usage of neoliberal politics is threatening democracy by detach\n",
      "iberal economist takes on India 's politics have given India the feel of colon\n",
      " describing anyone in the world of politics . This idea has become a norm with\n",
      "conomic world has taken control of politics and democracy will become non-exis\n",
      " exemplary explanation of identity politics , that sets his apart from the res\n",
      "Gowan 's understanding of identity politics poses to be the most persuasive be\n",
      "ic approach to discussing identity politics in Against Identity Politics , whi\n",
      "ntity politics in Against Identity Politics , which forces the reader to rejec\n",
      " only possible because of identity politics , otherwise , marginalized groups \n",
      ". According to Fukuyama , identity politics is the downfall of large-scale-soc\n",
      "ll arguments made against identity politics by Fukuyama , he states that `` th\n",
      " `` the worst thing about identity politics ... is that it has stimulated the \n",
      "as stimulated the rise of identity politics on the right '' ( Fukuyama , 2018 \n",
      "a strong argument against identity politics unless he can prove that marginali\n",
      " significant work done by identity politics to bring individuals to a close eq\n",
      "rs makes the argument for identity politics in In Defense of Identity Politics\n",
      "politics in In Defense of Identity Politics . She states how people relate Hil\n",
      "oss to her recognition of identity politics and not promoting solutions for th\n",
      "lized . Walters considers identify politics to give people recognition , so th\n",
      "sion ( Walters , 2018 ) . Identity politics pushes discussion of serious issue\n",
      "ided a good argument that identity politics brings recognition that people wou\n",
      " her article stating , `` identity politics sceptics are white men , whose art\n",
      "rsuasive understanding of identity politics in This is Not Identity Politics b\n"
     ]
    }
   ],
   "source": [
    "essay.concordance(\"people\")\n",
    "essay.concordance(\"politics\")\n",
    "# essay.concordance(\"rights\")\n",
    "# essay.concordance(\"identity\")\n",
    "# essay.concordance(\"neoliberalism\")"
   ]
  },
  {
   "cell_type": "code",
   "execution_count": 43,
   "id": "57439230",
   "metadata": {},
   "outputs": [
    {
     "data": {
      "text/plain": [
       "[('government', 135),\n",
       " ('canadians', 79),\n",
       " ('canada', 67),\n",
       " ('people', 37),\n",
       " ('also', 36)]"
      ]
     },
     "execution_count": 43,
     "metadata": {},
     "output_type": "execute_result"
    }
   ],
   "source": [
    "speechwords = word_tokenize(speech)\n",
    "speech = Text(speechwords)\n",
    "stop_words = set(stopwords.words('english'))\n",
    "speechwords = [word.lower() for word in speechwords if word.isalpha() and word.lower() not in stop_words]\n",
    "fdspeech = FreqDist(speechwords)\n",
    "fdspeech.most_common(5)\n"
   ]
  },
  {
   "cell_type": "code",
   "execution_count": 44,
   "id": "e72b2765",
   "metadata": {
    "scrolled": true
   },
   "outputs": [
    {
     "name": "stdout",
     "output_type": "stream",
     "text": [
      "Displaying 25 of 135 matches:\n",
      "ork and resolve of every order of government , every community , and every one\n",
      " – we must take bold action . The Government will meet these challenges . The \n",
      " will meet these challenges . The Government ’ s approach will have four found\n",
      "es . The second foundation of the Government ’ s plan is supporting people and\n",
      "thing we can do for the economy . Government action has already helped Canadia\n",
      "her . The first foundation of the Government ’ s approach is protecting Canadi\n",
      "ne . It is the job of the federal government to look out for all Canadians and\n",
      "s been the purpose of the federal government : bringing Canadians together to \n",
      "pported by the wage subsidy . The Government will continue to have people ’ s \n",
      "e must do even more . The federal government will be there to help the provinc\n",
      "t a test . At the same time , the Government is pursuing every technology and \n",
      "oved for safe use in Canada , the Government will do everything it can to see \n",
      "it can to see them deployed . The Government will also create a federal Testin\n",
      "usinesses in the short term , the Government will work to target additional fi\n",
      "dians as the first priority . The Government will also continue to work on wha\n",
      "mmunities need more broadly . The Government has already invested over $ 19 bi\n",
      "y reopen classrooms , the federal government invested $ 2 billion in the Safe \n",
      "ter seniors do vital work and the Government will continue to have their backs\n",
      "ir backs . At the same time , the Government will continue to support Canadian\n",
      "ate sector partners , the federal government created the COVID Alert app . Can\n",
      " themselves and others safe . The Government hopes all the others will sign on\n",
      "art and be better protected . The Government will also continue to work on get\n",
      "PPE they need . This spring , the Government issued a call , and thousands of \n",
      "ing almost all types of PPE . The Government will continue building that domes\n",
      "g the full range of options . The Government has already secured access to vac\n",
      "Displaying 25 of 79 matches:\n",
      "s of the House of Commons , Fellow Canadians , Ladies and Gentlemen , every day\n",
      "ve adapted in remarkable ways . We Canadians did our part . We changed our habi\n",
      "d keeps us focused on the future . Canadians have lived through uncertain times\n",
      "lled to meet their times . Today , Canadians expect you to do the same . They e\n",
      "Canada has ever faced . Over 9,000 Canadians have died in six months . For our \n",
      "n kids and career . For racialized Canadians and Indigenous Peoples who are con\n",
      "vernment action has already helped Canadians stay safe , and buffered the worst\n",
      "n is to stand up for who we are as Canadians . We can not forget what has made \n",
      "the time to remember who we are as Canadians . This is the opportunity to conta\n",
      "ernment ’ s approach is protecting Canadians from COVID-19 . This is priority n\n",
      "ral government to look out for all Canadians and especially our most vulnerable\n",
      "ffort . Over the last six months , Canadians have stood united and strong . The\n",
      " the federal government : bringing Canadians together to achieve common goals .\n",
      "rm care homes . Close to 9 million Canadians were helped with the Canada Emerge\n",
      "to have people ’ s backs just like Canadians have each other ’ s backs . Throug\n",
      " increase their testing capacity . Canadians should not be waiting in line for \n",
      " every option for faster tests for Canadians from coast to coast to coast . As \n",
      "isions are made with the health of Canadians as the first priority . The Govern\n",
      "overnment will continue to support Canadians as they take action to keep each o\n",
      "ment created the COVID Alert app . Canadians living in Ontario , Newfoundland a\n",
      "l also continue to work on getting Canadians the PPE they need . This spring , \n",
      "up . And in less than six months , Canadians are now manufacturing almost all t\n",
      "ile securing supply chains to keep Canadians safe and create jobs . Canadians a\n",
      "p Canadians safe and create jobs . Canadians are pulling together , whether tha\n",
      "trategy is all about ensuring that Canadians will be able to get a vaccine once\n"
     ]
    }
   ],
   "source": [
    "speech.concordance(\"government\")\n",
    "speech.concordance(\"canadians\")\n",
    "# speech.concordance(\"canada\")\n",
    "# speech.concordance(\"people\")\n",
    "# speech.concordance(\"also\")"
   ]
  },
  {
   "cell_type": "code",
   "execution_count": 45,
   "id": "adc13a7b",
   "metadata": {},
   "outputs": [
    {
     "data": {
      "text/plain": [
       "[('said', 1120), ('one', 921), ('may', 832), ('state', 691), ('good', 658)]"
      ]
     },
     "execution_count": 45,
     "metadata": {},
     "output_type": "execute_result"
    }
   ],
   "source": [
    "bookwords = word_tokenize(book)\n",
    "book = Text(bookwords)\n",
    "stop_words = set(stopwords.words('english'))\n",
    "bookwords = [word.lower() for word in bookwords if word.isalpha() and word.lower() not in stop_words]\n",
    "fdbook = FreqDist(bookwords)\n",
    "fdbook.most_common(5)"
   ]
  },
  {
   "cell_type": "code",
   "execution_count": 46,
   "id": "067dd7cc",
   "metadata": {},
   "outputs": [
    {
     "name": "stdout",
     "output_type": "stream",
     "text": [
      "Displaying 25 of 1120 matches:\n",
      "oy and the legend of Arthur ; and is said as a fact to have inspired some of t\n",
      "escriptions , but they can hardly be said to express the design of the writer \n",
      "hts to which he attains may be truly said to bear the greatest ‘ marks of desi\n",
      "usion is , that no sage or poet ever said that the just return evil for evil ;\n",
      " of this view . ‘ To do injustice is said to be a good ; to suffer injustice a\n",
      "ter things . And please , as Glaucon said , to exclude reputation ; let the ju\n",
      "o have too many children . ‘ But , ’ said Glaucon , interposing , ‘ are they n\n",
      "nd false . ‘ What do you mean ? ’ he said . I mean that children hear stories \n",
      "orical interpretation of mythology , said to have been first introduced as ear\n",
      "the minds of youth . The same may be said about his praises of eating and drin\n",
      "of bodily pleasure . Enough has been said of music , which makes a fair ending\n",
      "escape notice . BOOK IV . Adeimantus said : ‘ Suppose a person to argue , Socr\n",
      "ealings ; the peace of Europe may be said to depend upon them . In the most co\n",
      "g of that idealism which Pericles is said to have gathered from the teaching o\n",
      "ety of deserting justice. ’ Well , I said , I will lead the way , but do you f\n",
      "en , suddenly tearing them open , he said , — ‘ Take your fill , ye wretches ,\n",
      "y the coat and leaning towards him , said something in an undertone , of which\n",
      " let him off ? ’ ‘ Certainly not , ’ said Adeimantus , raising his voice . Who\n",
      "antus , raising his voice . Whom , I said , are you not going to let off ? ‘ Y\n",
      " not going to let off ? ‘ You , ’ he said . Why ? ‘ Because we think that you \n",
      " further explanation. ’ Thrasymachus said , ‘ Do you think that we have come h\n",
      "or to hear you discourse ? ’ Yes , I said ; but the discourse should be of a r\n",
      "ation is to be filled up. ’ Well , I said , the subject has several difficulti\n",
      "the truth is a murderer . ‘ Then , ’ said Glaucon , laughing , ‘ in case you s\n",
      "o be watch-dogs , as we have already said . Now dogs are not divided into hes \n",
      "Displaying 25 of 921 matches:\n",
      "h are new as well as old , and not of one age only but of all . Nowhere in Plat\n",
      "atest of all logical truths , and the one of which writers on philosophy are mo\n",
      "urs aside for a time , or turned from one work to another ; and such interrupti\n",
      "any single Dialogue being composed at one time is a disturbing element , which \n",
      "irmed by the numerous references from one part of the work to another . The sec\n",
      ", ‘ Concerning Justice , ’ is not the one by which the Republic is quoted , eit\n",
      "The answer is , that the two blend in one , and are two faces of the same truth\n",
      "the conditions of human society . The one is the soul and the other is the body\n",
      "s . The reader who seeks to find some one idea under which the whole may be con\n",
      "y as well speak of many designs as of one ; nor need anything be excluded from \n",
      "e Republic could ever have met at any one time is not a difficulty which would \n",
      "y more than to Shakespeare respecting one of his own dramas ) ; and need not gr\n",
      "sting traits of character . He is not one of those who have nothing to say , be\n",
      "fies his interest at a later stage by one or two occasional remarks . When atta\n",
      "humorously protected by Socrates ‘ as one who has never been his enemy and is n\n",
      "chus , are clearly distinguished from one another . Neither in the Republic , n\n",
      "ative ideas of the real Socrates . In one passage Plato himself seems to intima\n",
      "scovery of him and Socrates . But any one can see that this is a mere form , of\n",
      "ion towards those who are in error is one of the most characteristic features o\n",
      "harm ? ‘ In making alliances with the one , and going to war with the other. ’ \n",
      "—Why do you agree to be vanquished by one another in a pretended argument ? ’ H\n",
      " and therefore not identical with any one of them ? Nor would any man be a rule\n",
      "ing mutual admissions of the truth to one another . Thrasymachus had asserted t\n",
      "ankness , and assumes the attitude of one whose only wish is to understand the \n",
      "nd ; two men who quarrel detract from one another ’ s strength , and he who is \n"
     ]
    }
   ],
   "source": [
    "book.concordance(\"said\")\n",
    "book.concordance(\"one\")\n",
    "# book.concordance(\"may\")\n",
    "# book.concordance(\"state\")\n",
    "# book.concordance(\"good\")"
   ]
  },
  {
   "cell_type": "markdown",
   "id": "37a43de6",
   "metadata": {},
   "source": [
    "### The top ten words that start with each of the vowels"
   ]
  },
  {
   "cell_type": "code",
   "execution_count": 47,
   "id": "df72fcd9",
   "metadata": {},
   "outputs": [
    {
     "name": "stdout",
     "output_type": "stream",
     "text": [
      "Top ten Words that start with each of the vowels in essay\n",
      "A = [('and', 121), ('a', 102), ('are', 50), ('as', 45), ('an', 18), ('argument', 13), ('about', 11), ('against', 10), ('also', 6), ('article', 6)]\n",
      "E = [('economic', 12), ('economy', 9), ('economist', 6), ('even', 6), ('extent', 4), ('essential', 4), ('events', 4), ('entire', 3), ('exist', 3), ('elections', 3)]\n",
      "I = [('is', 137), ('in', 92), ('it', 68), ('identity', 30), ('information', 20), ('its', 18), ('individuals', 15), ('idea', 13), ('individual', 11), ('if', 11)]\n",
      "O = [('of', 230), ('on', 26), ('one', 17), ('only', 7), ('other', 6), ('or', 6), ('others', 5), ('order', 4), ('once', 4), ('over', 4)]\n",
      "U = [('understanding', 8), ('up', 8), ('upon', 4), ('usage', 3), ('understand', 3), ('unless', 3), ('universal', 3), ('used', 3), ('use', 2), ('uneducated', 2)]\n"
     ]
    }
   ],
   "source": [
    "essayA = nltk.FreqDist(word for word in essay if word.startswith('a'))\n",
    "essayE = nltk.FreqDist(word for word in essay if word.startswith('e'))\n",
    "essayI = nltk.FreqDist(word for word in essay if word.startswith('i'))\n",
    "essayO = nltk.FreqDist(word for word in essay if word.startswith('o'))\n",
    "essayU = nltk.FreqDist(word for word in essay if word.startswith('u')) \n",
    "print(\"Top ten Words that start with each of the vowels in essay\")\n",
    "print(\"A = \" + str(essayA.most_common(10)))\n",
    "print(\"E = \" + str(essayE.most_common(10)))\n",
    "print(\"I = \" + str(essayI.most_common(10)))\n",
    "print(\"O = \" + str(essayO.most_common(10)))\n",
    "print(\"U = \" + str(essayU.most_common(10)))"
   ]
  },
  {
   "cell_type": "code",
   "execution_count": 48,
   "id": "40d7790a",
   "metadata": {},
   "outputs": [
    {
     "name": "stdout",
     "output_type": "stream",
     "text": [
      "Top ten Words that start with each of the vowels in speech\n",
      "A = [('and', 254), ('a', 100), ('are', 40), ('also', 36), ('as', 26), ('all', 25), ('an', 18), ('at', 12), ('action', 12), ('address', 9)]\n",
      "E = [('economic', 18), ('economy', 13), ('ensure', 13), ('everyone', 11), ('every', 10), ('energy', 7), ('ever', 5), ('essential', 4), ('each', 4), ('especially', 4)]\n",
      "I = [('in', 104), ('is', 83), ('it', 27), ('including', 24), ('investments', 14), ('into', 6), ('its', 5), ('infrastructure', 5), ('impact', 4), ('invested', 4)]\n",
      "O = [('of', 141), ('on', 57), ('our', 39), ('or', 12), ('one', 9), ('other', 9), ('over', 8), ('once', 5), ('out', 5), ('order', 4)]\n",
      "U = [('up', 12), ('us', 10), ('using', 5), ('until', 3), ('united', 3), ('use', 2), ('unprecedented', 2), ('update', 2), ('under', 2), ('unique', 2)]\n"
     ]
    }
   ],
   "source": [
    "speechA = nltk.FreqDist(word for word in speech if word.startswith('a'))\n",
    "speechE = nltk.FreqDist(word for word in speech if word.startswith('e'))\n",
    "speechI = nltk.FreqDist(word for word in speech if word.startswith('i'))\n",
    "speechO = nltk.FreqDist(word for word in speech if word.startswith('o'))\n",
    "speechU = nltk.FreqDist(word for word in speech if word.startswith('u')) \n",
    "print(\"Top ten Words that start with each of the vowels in speech\")\n",
    "print(\"A = \" + str(speechA.most_common(10)))\n",
    "print(\"E = \" + str(speechE.most_common(10)))\n",
    "print(\"I = \" + str(speechI.most_common(10)))\n",
    "print(\"O = \" + str(speechO.most_common(10)))\n",
    "print(\"U = \" + str(speechU.most_common(10)))"
   ]
  },
  {
   "cell_type": "code",
   "execution_count": 49,
   "id": "4c67b3a5",
   "metadata": {},
   "outputs": [],
   "source": [
    "# bookA = nltk.FreqDist(word for word in book if word.startswith('a'))\n",
    "# bookE = nltk.FreqDist(word for word in book if word.startswith('e'))\n",
    "# bookI = nltk.FreqDist(word for word in book if word.startswith('i'))\n",
    "# bookO = nltk.FreqDist(word for word in book if word.startswith('o'))\n",
    "# bookU = nltk.FreqDist(word for word in book if word.startswith('u')) \n",
    "# print(\"Top ten Words that start with each of the vowels in book\")\n",
    "# print(\"A = \" + str(bookA.most_common(10)))\n",
    "# print(\"E = \" + str(bookE.most_common(10)))\n",
    "# print(\"I = \" + str(bookI.most_common(10)))\n",
    "# print(\"O = \" + str(bookO.most_common(10)))\n",
    "# print(\"U = \" + str(bookU.most_common(10)))"
   ]
  },
  {
   "cell_type": "markdown",
   "id": "609f7775",
   "metadata": {},
   "source": [
    "### A stemmed version of the longest sentence"
   ]
  },
  {
   "cell_type": "code",
   "execution_count": 50,
   "id": "1d83bea5",
   "metadata": {},
   "outputs": [
    {
     "data": {
      "text/plain": [
       "['Accord',\n",
       " 'to',\n",
       " 'Fukuyama',\n",
       " ',',\n",
       " 'identity',\n",
       " 'politic',\n",
       " 'i',\n",
       " 'the',\n",
       " 'downfall',\n",
       " 'of',\n",
       " 'large-scale-socio-economic',\n",
       " 'change',\n",
       " 'because',\n",
       " 'marginaliz',\n",
       " 'communit',\n",
       " 'want',\n",
       " 'to',\n",
       " 'be',\n",
       " 'recogniz',\n",
       " 'equal',\n",
       " 'and',\n",
       " '``',\n",
       " 'celebrate',\n",
       " \"''\",\n",
       " 'their',\n",
       " 'difference',\n",
       " ';',\n",
       " 'exampl',\n",
       " 'of',\n",
       " 'such',\n",
       " 'communit',\n",
       " 'who',\n",
       " 'want',\n",
       " 'to',\n",
       " 'be',\n",
       " 'celebrat',\n",
       " 'and',\n",
       " 'not',\n",
       " 'reconcil',\n",
       " ',',\n",
       " 'are',\n",
       " 'the',\n",
       " 'Indigenou',\n",
       " 'who',\n",
       " 'had',\n",
       " 'their',\n",
       " 'land',\n",
       " 'stolen',\n",
       " 'from',\n",
       " 'them',\n",
       " 'and',\n",
       " 'are',\n",
       " 'treat',\n",
       " 'like',\n",
       " 'outsider',\n",
       " ',',\n",
       " 'African',\n",
       " 'American',\n",
       " 'who',\n",
       " 'continue',\n",
       " 'to',\n",
       " 'feel',\n",
       " 'the',\n",
       " 'aftermath',\n",
       " 'of',\n",
       " 'slavery',\n",
       " ',',\n",
       " 'and',\n",
       " 'women',\n",
       " 'who',\n",
       " 'will',\n",
       " 'never',\n",
       " 'be',\n",
       " 'equal',\n",
       " 'to',\n",
       " 'men',\n",
       " '(',\n",
       " 'Fukuyama',\n",
       " ',',\n",
       " '2018',\n",
       " 'p']"
      ]
     },
     "execution_count": 50,
     "metadata": {},
     "output_type": "execute_result"
    }
   ],
   "source": [
    "def stem(word):\n",
    "    regexp = r'^(.*?)(ing|ly|ed|ious|ies|ive|es|s|ment)?$'\n",
    "    stem, suffix = re.findall(regexp, word)[0]\n",
    "    return stem\n",
    "tokens = word_tokenize(longest_sentence_essay)\n",
    "[stem(t) for t in tokens]"
   ]
  },
  {
   "cell_type": "code",
   "execution_count": 51,
   "id": "977814e6",
   "metadata": {},
   "outputs": [
    {
     "data": {
      "text/plain": [
       "['However',\n",
       " ',',\n",
       " 'the',\n",
       " 'pandemic',\n",
       " 'ha',\n",
       " 'shown',\n",
       " 'that',\n",
       " 'we',\n",
       " 'ne',\n",
       " 'to',\n",
       " 'keep',\n",
       " 'mov',\n",
       " 'forward',\n",
       " 'even',\n",
       " 'faster',\n",
       " 'on',\n",
       " 'a',\n",
       " 'number',\n",
       " 'of',\n",
       " 'front',\n",
       " 'includ',\n",
       " 'by',\n",
       " ':',\n",
       " 'Expedit',\n",
       " 'work',\n",
       " 'to',\n",
       " 'co-develop',\n",
       " 'distinctions-bas',\n",
       " 'Indigenou',\n",
       " 'health',\n",
       " 'legislation',\n",
       " 'with',\n",
       " 'First',\n",
       " 'Nation',\n",
       " ',',\n",
       " 'Inuit',\n",
       " ',',\n",
       " 'and',\n",
       " 'the',\n",
       " 'Méti',\n",
       " 'Nation',\n",
       " ',',\n",
       " 'and',\n",
       " 'a',\n",
       " 'distinctions-bas',\n",
       " 'mental',\n",
       " 'health',\n",
       " 'and',\n",
       " 'wellnes',\n",
       " 'strategy',\n",
       " ';',\n",
       " 'Accelerat',\n",
       " 'work',\n",
       " 'on',\n",
       " 'the',\n",
       " 'National',\n",
       " 'Action',\n",
       " 'Plan',\n",
       " 'in',\n",
       " 'response',\n",
       " 'to',\n",
       " 'the',\n",
       " 'National',\n",
       " 'Inquiry',\n",
       " 'into',\n",
       " 'Miss',\n",
       " 'and',\n",
       " 'Murder',\n",
       " 'Indigenou',\n",
       " 'Women',\n",
       " 'and',\n",
       " 'Girl',\n",
       " '’',\n",
       " 'Call',\n",
       " 'for',\n",
       " 'Justice',\n",
       " ',',\n",
       " 'a',\n",
       " 'well',\n",
       " 'a',\n",
       " 'implementation',\n",
       " 'of',\n",
       " 'the',\n",
       " 'Truth',\n",
       " 'and',\n",
       " 'Reconciliation',\n",
       " 'Commission',\n",
       " '’',\n",
       " '',\n",
       " 'Call',\n",
       " 'to',\n",
       " 'Action',\n",
       " ';',\n",
       " 'And',\n",
       " 'continu',\n",
       " 'to',\n",
       " 'close',\n",
       " 'the',\n",
       " 'infrastructure',\n",
       " 'gap',\n",
       " 'in',\n",
       " 'Indigenou',\n",
       " 'communit',\n",
       " ',',\n",
       " 'work',\n",
       " 'on',\n",
       " 'a',\n",
       " 'distinctions-basi',\n",
       " 'with',\n",
       " 'First',\n",
       " 'Nation',\n",
       " ',',\n",
       " 'Inuit',\n",
       " ',',\n",
       " 'and',\n",
       " 'the',\n",
       " 'Méti',\n",
       " 'Nation',\n",
       " 'to',\n",
       " 'accelerate',\n",
       " 'the',\n",
       " 'govern',\n",
       " '’',\n",
       " '',\n",
       " '10-year',\n",
       " 'commit']"
      ]
     },
     "execution_count": 51,
     "metadata": {},
     "output_type": "execute_result"
    }
   ],
   "source": [
    "tokens = word_tokenize(longest_sentence_speech)\n",
    "[stem(s) for s in tokens]"
   ]
  },
  {
   "cell_type": "code",
   "execution_count": 52,
   "id": "bd9e033b",
   "metadata": {},
   "outputs": [
    {
     "data": {
      "text/plain": [
       "['The',\n",
       " 'allusion',\n",
       " 'to',\n",
       " 'Theag',\n",
       " '’',\n",
       " 'bridle',\n",
       " ',',\n",
       " 'and',\n",
       " 'to',\n",
       " 'the',\n",
       " 'internal',\n",
       " 'oracle',\n",
       " ',',\n",
       " 'or',\n",
       " 'demonic',\n",
       " 'sign',\n",
       " ',',\n",
       " 'of',\n",
       " 'Socrat',\n",
       " ',',\n",
       " 'which',\n",
       " 'here',\n",
       " ',',\n",
       " 'a',\n",
       " 'alway',\n",
       " 'in',\n",
       " 'Plato',\n",
       " ',',\n",
       " 'i',\n",
       " 'on',\n",
       " 'prohibitory',\n",
       " ';',\n",
       " 'the',\n",
       " 'remark',\n",
       " 'that',\n",
       " 'the',\n",
       " 'salvation',\n",
       " 'of',\n",
       " 'any',\n",
       " 'remnant',\n",
       " 'of',\n",
       " 'good',\n",
       " 'in',\n",
       " 'the',\n",
       " 'present',\n",
       " 'evil',\n",
       " 'state',\n",
       " 'of',\n",
       " 'the',\n",
       " 'world',\n",
       " 'i',\n",
       " 'due',\n",
       " 'to',\n",
       " 'God',\n",
       " 'on',\n",
       " ';',\n",
       " 'the',\n",
       " 'reference',\n",
       " 'to',\n",
       " 'a',\n",
       " 'future',\n",
       " 'state',\n",
       " 'of',\n",
       " 'existence',\n",
       " ',',\n",
       " 'which',\n",
       " 'i',\n",
       " 'unknown',\n",
       " 'to',\n",
       " 'Glaucon',\n",
       " 'in',\n",
       " 'the',\n",
       " 'tenth',\n",
       " 'book',\n",
       " ',',\n",
       " 'and',\n",
       " 'in',\n",
       " 'which',\n",
       " 'the',\n",
       " 'discussion',\n",
       " 'of',\n",
       " 'Socrat',\n",
       " 'and',\n",
       " 'hi',\n",
       " 'discipl',\n",
       " 'would',\n",
       " 'be',\n",
       " 'resum',\n",
       " ';',\n",
       " 'the',\n",
       " 'surprise',\n",
       " 'in',\n",
       " 'the',\n",
       " 'answer',\n",
       " ';',\n",
       " 'the',\n",
       " 'fanciful',\n",
       " 'irony',\n",
       " 'of',\n",
       " 'Socrat',\n",
       " ',',\n",
       " 'where',\n",
       " 'he',\n",
       " 'pretend',\n",
       " 'that',\n",
       " 'he',\n",
       " 'can',\n",
       " 'on',\n",
       " 'describe',\n",
       " 'the',\n",
       " 'strange',\n",
       " 'position',\n",
       " 'of',\n",
       " 'the',\n",
       " 'philosopher',\n",
       " 'in',\n",
       " 'a',\n",
       " 'figure',\n",
       " 'of',\n",
       " 'speech',\n",
       " ';',\n",
       " 'the',\n",
       " 'original',\n",
       " 'observation',\n",
       " 'that',\n",
       " 'the',\n",
       " 'Sophist',\n",
       " ',',\n",
       " 'after',\n",
       " 'all',\n",
       " ',',\n",
       " 'are',\n",
       " 'on',\n",
       " 'the',\n",
       " 'representativ',\n",
       " 'and',\n",
       " 'not',\n",
       " 'the',\n",
       " 'leader',\n",
       " 'of',\n",
       " 'public',\n",
       " 'opinion',\n",
       " ';',\n",
       " 'the',\n",
       " 'picture',\n",
       " 'of',\n",
       " 'the',\n",
       " 'philosopher',\n",
       " 'stand',\n",
       " 'aside',\n",
       " 'in',\n",
       " 'the',\n",
       " 'shower',\n",
       " 'of',\n",
       " 'sleet',\n",
       " 'under',\n",
       " 'a',\n",
       " 'wall',\n",
       " ';',\n",
       " 'the',\n",
       " 'figure',\n",
       " 'of',\n",
       " '‘',\n",
       " 'the',\n",
       " 'great',\n",
       " 'beast',\n",
       " '’',\n",
       " 'follow',\n",
       " 'by',\n",
       " 'the',\n",
       " 'expression',\n",
       " 'of',\n",
       " 'good-will',\n",
       " 'toward',\n",
       " 'the',\n",
       " 'common',\n",
       " 'people',\n",
       " 'who',\n",
       " 'would',\n",
       " 'not',\n",
       " 'have',\n",
       " 'reject',\n",
       " 'the',\n",
       " 'philosopher',\n",
       " 'if',\n",
       " 'they',\n",
       " 'had',\n",
       " 'known',\n",
       " 'him',\n",
       " ';',\n",
       " 'the',\n",
       " '‘',\n",
       " 'right',\n",
       " 'noble',\n",
       " 'thought',\n",
       " '’',\n",
       " 'that',\n",
       " 'the',\n",
       " 'highest',\n",
       " 'truth',\n",
       " 'demand',\n",
       " 'the',\n",
       " 'greatest',\n",
       " 'exactnes',\n",
       " ';',\n",
       " 'the',\n",
       " 'hesitation',\n",
       " 'of',\n",
       " 'Socrat',\n",
       " 'in',\n",
       " 'return',\n",
       " 'once',\n",
       " 'more',\n",
       " 'to',\n",
       " 'hi',\n",
       " 'well-worn',\n",
       " 'theme',\n",
       " 'of',\n",
       " 'the',\n",
       " 'idea',\n",
       " 'of',\n",
       " 'good',\n",
       " ';',\n",
       " 'the',\n",
       " 'ludicrou',\n",
       " 'earnestnes',\n",
       " 'of',\n",
       " 'Glaucon',\n",
       " ';',\n",
       " 'the',\n",
       " 'comparison',\n",
       " 'of',\n",
       " 'philosophy',\n",
       " 'to',\n",
       " 'a',\n",
       " 'desert',\n",
       " 'maiden',\n",
       " 'who',\n",
       " 'marr',\n",
       " 'beneath',\n",
       " 'her—are',\n",
       " 'some',\n",
       " 'of',\n",
       " 'the',\n",
       " 'most',\n",
       " 'interest',\n",
       " 'characteristic',\n",
       " 'of',\n",
       " 'the',\n",
       " 'sixth',\n",
       " 'book']"
      ]
     },
     "execution_count": 52,
     "metadata": {},
     "output_type": "execute_result"
    }
   ],
   "source": [
    "tokens = word_tokenize(longest_sentence_book)\n",
    "[stem(b) for b in tokens]"
   ]
  }
 ],
 "metadata": {
  "kernelspec": {
   "display_name": "Python 3",
   "language": "python",
   "name": "python3"
  },
  "language_info": {
   "codemirror_mode": {
    "name": "ipython",
    "version": 3
   },
   "file_extension": ".py",
   "mimetype": "text/x-python",
   "name": "python",
   "nbconvert_exporter": "python",
   "pygments_lexer": "ipython3",
   "version": "3.9.1"
  },
  "vscode": {
   "interpreter": {
    "hash": "aee8b7b246df8f9039afb4144a1f6fd8d2ca17a180786b69acc140d282b71a49"
   }
  }
 },
 "nbformat": 4,
 "nbformat_minor": 5
}
