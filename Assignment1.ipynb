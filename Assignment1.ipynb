{
 "cells": [
  {
   "attachments": {},
   "cell_type": "markdown",
   "metadata": {},
   "source": [
    "# SDA/LING 250 - Assignment 1"
   ]
  },
  {
   "attachments": {},
   "cell_type": "markdown",
   "metadata": {},
   "source": [
    "###  Load packages and data"
   ]
  },
  {
   "cell_type": "code",
   "execution_count": 43,
   "metadata": {},
   "outputs": [],
   "source": [
    "# Libraries\n",
    "import nltk\n",
    "from nltk.collocations import *\n",
    "from nltk.corpus import PlaintextCorpusReader\n",
    "from nltk.collocations import BigramCollocationFinder\n",
    "from nltk.metrics import BigramAssocMeasures\n",
    "from nltk.corpus import gutenberg\n",
    "# import numpy\n",
    "# import matplotlib\n",
    "# from nltk.book import *\n",
    "# from nltk.tokenize import sent_tokenize"
   ]
  },
  {
   "cell_type": "code",
   "execution_count": 34,
   "metadata": {},
   "outputs": [],
   "source": [
    "# texts\n",
    "corpus_root = \"/Users/soniama/Desktop/SDA250/Lab/Assignment_1/data/\"\n",
    "mycorpus = PlaintextCorpusReader(corpus_root, '.*', encoding = \"utf8\")\n",
    "\n",
    "# Plato\n",
    "platoRepublic_sents = mycorpus.sents('PlatoRepublic.txt')\n",
    "platoRepublic_words = mycorpus.words('PlatoRepublic.txt')"
   ]
  },
  {
   "attachments": {},
   "cell_type": "markdown",
   "metadata": {},
   "source": [
    "## 1. Length\n",
    "in words"
   ]
  },
  {
   "cell_type": "code",
   "execution_count": 35,
   "metadata": {},
   "outputs": [
    {
     "data": {
      "text/plain": [
       "251918"
      ]
     },
     "execution_count": 35,
     "metadata": {},
     "output_type": "execute_result"
    }
   ],
   "source": [
    "len(platoRepublic_words)"
   ]
  },
  {
   "attachments": {},
   "cell_type": "markdown",
   "metadata": {},
   "source": [
    "## 2. The Lexical Diversity"
   ]
  },
  {
   "cell_type": "code",
   "execution_count": 36,
   "metadata": {},
   "outputs": [
    {
     "data": {
      "text/plain": [
       "0.04503449535166205"
      ]
     },
     "execution_count": 36,
     "metadata": {},
     "output_type": "execute_result"
    }
   ],
   "source": [
    "def lexical_diversity(text):\n",
    "    return len(set(text)) / len(text)\n",
    "\n",
    "lexical_diversity(platoRepublic_words)"
   ]
  },
  {
   "attachments": {},
   "cell_type": "markdown",
   "metadata": {},
   "source": [
    "## 3. The Longest Sentence"
   ]
  },
  {
   "cell_type": "code",
   "execution_count": 37,
   "metadata": {},
   "outputs": [
    {
     "name": "stdout",
     "output_type": "stream",
     "text": [
      "The allusion to Theages ’ bridle , and to the internal oracle , or demonic sign , of Socrates , which here , as always in Plato , is only prohibitory ; the remark that the salvation of any remnant of good in the present evil state of the world is due to God only ; the reference to a future state of existence , which is unknown to Glaucon in the tenth book , and in which the discussions of Socrates and his disciples would be resumed ; the surprise in the answers ; the fanciful irony of Socrates , where he pretends that he can only describe the strange position of the philosopher in a figure of speech ; the original observation that the Sophists , after all , are only the representatives and not the leaders of public opinion ; the picture of the philosopher standing aside in the shower of sleet under a wall ; the figure of ‘ the great beast ’ followed by the expression of good - will towards the common people who would not have rejected the philosopher if they had known him ; the ‘ right noble thought ’ that the highest truths demand the greatest exactness ; the hesitation of Socrates in returning once more to his well - worn theme of the idea of good ; the ludicrous earnestness of Glaucon ; the comparison of philosophy to a deserted maiden who marries beneath her — are some of the most interesting characteristics of the sixth book .\n"
     ]
    }
   ],
   "source": [
    "from nltk.tokenize import sent_tokenize\n",
    "\n",
    "platoLongestSentence = \" \".join(max(platoRepublic_sents, key=len))\n",
    "print(platoLongestSentence)\n"
   ]
  },
  {
   "attachments": {},
   "cell_type": "markdown",
   "metadata": {},
   "source": [
    "## 4. The Top Collocations.\n",
    "type the sentence and also give the number of words.\n",
    "Hint: look at the Gutenberg part of Section 2.1 in NLTK."
   ]
  },
  {
   "cell_type": "code",
   "execution_count": 50,
   "metadata": {},
   "outputs": [
    {
     "data": {
      "text/plain": [
       "[(',', 'and'),\n",
       " ('to', 'be'),\n",
       " ('of', 'the'),\n",
       " ('he', 'said'),\n",
       " ('’', 's'),\n",
       " ('i', 'said'),\n",
       " ('in', 'the'),\n",
       " ('they', 'are'),\n",
       " ('the', 'same'),\n",
       " ('may', 'be')]"
      ]
     },
     "execution_count": 50,
     "metadata": {},
     "output_type": "execute_result"
    }
   ],
   "source": [
    "platoCollacation = [w.lower() for w in platoRepublic_words]\n",
    "Bigram_collocation = BigramCollocationFinder.from_words(platoCollacation)\n",
    "Bigram_collocation.apply_freq_filter(3)\n",
    "Bigram_collocation.nbest(BigramAssocMeasures.likelihood_ratio, 10)"
   ]
  },
  {
   "attachments": {},
   "cell_type": "markdown",
   "metadata": {},
   "source": [
    "## 5. The Top Ten Words that Start with Each of the Vowel\n",
    "involves using FreqDist"
   ]
  },
  {
   "cell_type": "code",
   "execution_count": 51,
   "metadata": {},
   "outputs": [
    {
     "data": {
      "text/plain": [
       "[('a', 1),\n",
       " ('abandoned', 1),\n",
       " ('abate', 1),\n",
       " ('abated', 1),\n",
       " ('abates', 1),\n",
       " ('abdera', 1),\n",
       " ('abhor', 1),\n",
       " ('abhorrence', 1),\n",
       " ('abide', 1),\n",
       " ('abiding', 1)]"
      ]
     },
     "execution_count": 51,
     "metadata": {},
     "output_type": "execute_result"
    }
   ],
   "source": [
    "# a e i o u\n",
    "\n",
    "fdist2 = FreqDist(sorted(set(w.lower() for w in platoRepublic_words if w.isalpha())))\n",
    "fdist2.most_common(10)"
   ]
  },
  {
   "attachments": {},
   "cell_type": "markdown",
   "metadata": {},
   "source": [
    "## 6. A Stemmed Version of the Longest Sentence\n",
    "extracted above in 3"
   ]
  },
  {
   "cell_type": "markdown",
   "metadata": {},
   "source": []
  },
  {
   "cell_type": "markdown",
   "metadata": {},
   "source": []
  },
  {
   "cell_type": "markdown",
   "metadata": {},
   "source": []
  },
  {
   "cell_type": "markdown",
   "metadata": {},
   "source": []
  },
  {
   "cell_type": "markdown",
   "metadata": {},
   "source": []
  }
 ],
 "metadata": {
  "kernelspec": {
   "display_name": "Python 3",
   "language": "python",
   "name": "python3"
  },
  "language_info": {
   "codemirror_mode": {
    "name": "ipython",
    "version": 3
   },
   "file_extension": ".py",
   "mimetype": "text/x-python",
   "name": "python",
   "nbconvert_exporter": "python",
   "pygments_lexer": "ipython3",
   "version": "3.9.1"
  },
  "vscode": {
   "interpreter": {
    "hash": "aee8b7b246df8f9039afb4144a1f6fd8d2ca17a180786b69acc140d282b71a49"
   }
  }
 },
 "nbformat": 4,
 "nbformat_minor": 2
}
