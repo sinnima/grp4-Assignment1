{
 "cells": [
  {
   "attachments": {},
   "cell_type": "markdown",
   "metadata": {},
   "source": [
    "# SDA/LING 250 - Assignment 1"
   ]
  },
  {
   "attachments": {},
   "cell_type": "markdown",
   "metadata": {},
   "source": [
    "###  Load packages and data"
   ]
  },
  {
   "cell_type": "code",
   "execution_count": 2,
   "metadata": {},
   "outputs": [
    {
     "name": "stderr",
     "output_type": "stream",
     "text": [
      "/Library/Frameworks/Python.framework/Versions/3.9/lib/python3.9/site-packages/scipy/__init__.py:138: UserWarning: A NumPy version >=1.16.5 and <1.23.0 is required for this version of SciPy (detected version 1.24.2)\n",
      "  warnings.warn(f\"A NumPy version >={np_minversion} and <{np_maxversion} is required for this version of \"\n"
     ]
    }
   ],
   "source": [
    "# Libraries\n",
    "import nltk\n",
    "from nltk.collocations import *\n",
    "from nltk.corpus import PlaintextCorpusReader\n",
    "from nltk.collocations import BigramCollocationFinder\n",
    "from nltk.metrics import BigramAssocMeasures\n",
    "from nltk.corpus import gutenberg\n",
    "from nltk.text import Text\n",
    "from nltk.probability import FreqDist\n",
    "from nltk.tokenize import sent_tokenize\n",
    "# import numpy\n",
    "# import matplotlib\n",
    "# from nltk.book import *\n"
   ]
  },
  {
   "cell_type": "code",
   "execution_count": 3,
   "metadata": {},
   "outputs": [],
   "source": [
    "# texts\n",
    "corpus_root = \"/Users/soniama/Desktop/SDA250/Lab/Assignment_1/data/\"\n",
    "mycorpus = PlaintextCorpusReader(corpus_root, '.*', encoding = \"utf8\")\n",
    "\n",
    "# Plato\n",
    "platoRepublic_sents = mycorpus.sents('PlatoRepublic.txt')\n",
    "platoRepublic_words = mycorpus.words('PlatoRepublic.txt')\n"
   ]
  },
  {
   "attachments": {},
   "cell_type": "markdown",
   "metadata": {},
   "source": [
    "## 1. Length\n",
    "in words"
   ]
  },
  {
   "cell_type": "code",
   "execution_count": 4,
   "metadata": {},
   "outputs": [
    {
     "data": {
      "text/plain": [
       "251918"
      ]
     },
     "execution_count": 4,
     "metadata": {},
     "output_type": "execute_result"
    }
   ],
   "source": [
    "len(platoRepublic_words)"
   ]
  },
  {
   "attachments": {},
   "cell_type": "markdown",
   "metadata": {},
   "source": [
    "## 2. The Lexical Diversity"
   ]
  },
  {
   "cell_type": "code",
   "execution_count": 5,
   "metadata": {},
   "outputs": [
    {
     "data": {
      "text/plain": [
       "0.04503449535166205"
      ]
     },
     "execution_count": 5,
     "metadata": {},
     "output_type": "execute_result"
    }
   ],
   "source": [
    "def lexical_diversity(text):\n",
    "    return len(set(text)) / len(text)\n",
    "\n",
    "lexical_diversity(platoRepublic_words)"
   ]
  },
  {
   "attachments": {},
   "cell_type": "markdown",
   "metadata": {},
   "source": [
    "## 3. The Longest Sentence"
   ]
  },
  {
   "cell_type": "code",
   "execution_count": 19,
   "metadata": {},
   "outputs": [
    {
     "name": "stdout",
     "output_type": "stream",
     "text": [
      "The allusion to Theages ’ bridle , and to the internal oracle , or demonic sign , of Socrates , which here , as always in Plato , is only prohibitory ; the remark that the salvation of any remnant of good in the present evil state of the world is due to God only ; the reference to a future state of existence , which is unknown to Glaucon in the tenth book , and in which the discussions of Socrates and his disciples would be resumed ; the surprise in the answers ; the fanciful irony of Socrates , where he pretends that he can only describe the strange position of the philosopher in a figure of speech ; the original observation that the Sophists , after all , are only the representatives and not the leaders of public opinion ; the picture of the philosopher standing aside in the shower of sleet under a wall ; the figure of ‘ the great beast ’ followed by the expression of good - will towards the common people who would not have rejected the philosopher if they had known him ; the ‘ right noble thought ’ that the highest truths demand the greatest exactness ; the hesitation of Socrates in returning once more to his well - worn theme of the idea of good ; the ludicrous earnestness of Glaucon ; the comparison of philosophy to a deserted maiden who marries beneath her — are some of the most interesting characteristics of the sixth book .\n"
     ]
    }
   ],
   "source": [
    "from nltk.tokenize import sent_tokenize\n",
    "\n",
    "platoLongestSentence = \" \".join(max(platoRepublic_sents, key=len))\n",
    "print(platoLongestSentence)\n"
   ]
  },
  {
   "attachments": {},
   "cell_type": "markdown",
   "metadata": {},
   "source": [
    "## 4. The Top Collocations.\n",
    "type the sentence and also give the number of words.\n",
    "Hint: look at the Gutenberg part of Section 2.1 in NLTK."
   ]
  },
  {
   "cell_type": "code",
   "execution_count": 17,
   "metadata": {},
   "outputs": [
    {
     "name": "stdout",
     "output_type": "stream",
     "text": [
      "Displaying 25 of 154 matches:\n",
      "l greater paradox that injustice is virtue and justice vice . Socrates praises\n",
      "art has an end and an excellence or virtue by which the end is accomplished . \n",
      "quiry , and then whether justice is virtue and wisdom , or evil and folly ; an\n",
      " and not the points of difference . Virtue , like art , must take means to an \n",
      " good manners are both an art and a virtue ; character is naturally described \n",
      "e distinction of Aristotle , that ‘ virtue is concerned with action , art with\n",
      "duction ’ ( Nic . Eth .), or that ‘ virtue implies intention and constancy of \n",
      "s to be an intimation conveyed that virtue is more than art . This is implied \n",
      "f those modern writers who speak of virtue as fitness , and of freedom as obed\n",
      "istotelian doctrine of an end and a virtue directed towards the end , which ag\n",
      "ns make reputation the incentive to virtue . And other advantages are promised\n",
      "eir heads , enjoying as the meed of virtue a paradise of immortal drunkenness \n",
      " found both in poetry and prose :—“ Virtue ,” as Hesiod says , “ is honourable\n",
      "l turn ,— I will put on the show of virtue and trail behind me the fox of Arch\n",
      " he knows also that more than human virtue is needed to save a man , and that \n",
      "ght to govern well or ill ; or that virtue is self - love or the love of power\n",
      " is ‘ the homage which vice pays to virtue .’ But now Adeimantus , taking up t\n",
      "ut is taken by Socrates to mean all virtue . May we not more truly say that th\n",
      "ittle sooner ) ‘ he should practise virtue ’? But how can excessive care of he\n",
      "et consistent with that practice of virtue which Phocylides inculcates ? When \n",
      "d as himself . Vice may be known of virtue , but cannot know virtue . This is \n",
      "e known of virtue , but cannot know virtue . This is the sort of medicine and \n",
      "ledge of vice , but no knowledge of virtue . It may be doubted , however , whe\n",
      "t . There is a directness of aim in virtue which gives an insight into vice . \n",
      " certainly to be found in a life of virtue and goodness . But we seem to be mo\n"
     ]
    }
   ],
   "source": [
    "platoRepublic_text = Text(platoRepublic_words)\n",
    "platoRepublic_text.concordance(\"virtue\")\n"
   ]
  },
  {
   "cell_type": "code",
   "execution_count": 18,
   "metadata": {},
   "outputs": [
    {
     "name": "stdout",
     "output_type": "stream",
     "text": [
      "Displaying 25 of 111 matches:\n",
      "The Project Gutenberg eBook of The Republic , by Plato This ebook is for the u\n",
      "ore using this eBook . Title : The Republic Author : Plato Translator : Benjam\n",
      "OF THE PROJECT GUTENBERG EBOOK THE REPUBLIC *** THE REPUBLIC By Plato Translat\n",
      "TENBERG EBOOK THE REPUBLIC *** THE REPUBLIC By Plato Translated by Benjamin Jo\n",
      "jamin Jowett Note : See also “ The Republic ” by Plato , Jowett , eBook # 150 \n",
      "ts INTRODUCTION AND ANALYSIS . THE REPUBLIC . PERSONS OF THE DIALOGUE . BOOK I\n",
      " * INTRODUCTION AND ANALYSIS . The Republic of Plato is the longest of his wor\n",
      "ect politics with philosophy . The Republic is the centre around which the oth\n",
      "are all of them to be found in the Republic , and were probably first invented\n",
      "). Neither must we forget that the Republic is but the third part of a still l\n",
      "dly band of followers ; for in the Republic is to be found the original of Cic\n",
      "s had the greatest influence . The Republic of Plato is also the first treatis\n",
      "dream by him . The argument of the Republic is the search after Justice , the \n",
      "reated in the earlier books of the Republic is now resumed and fought out to a\n",
      "eiled by the genius of Plato . The Republic , like the Phaedrus ( see Introduc\n",
      " affect longer works , such as the Republic and the Laws , more than shorter o\n",
      ", the seeming discrepancies of the Republic may only arise out of the discorda\n",
      "nds . And the supposition that the Republic was written uninterruptedly and by\n",
      "ice ,’ is not the one by which the Republic is quoted , either by Aristotle or\n",
      "ather than the ethical side of the Republic , and is chiefly occupied with hyp\n",
      "xplanations of the argument of the Republic , imagines himself to have found t\n",
      " was the principal argument of the Republic ’ would have been hardly intelligi\n",
      "tion to the Phaedrus ). Is not the Republic the vehicle of three or four great\n",
      "r all the persons mentioned in the Republic could ever have met at any one tim\n",
      " . The principal characters in the Republic are Cephalus , Polemarchus , Thras\n"
     ]
    }
   ],
   "source": [
    "platoRepublic_text.concordance(\"republic\")"
   ]
  },
  {
   "attachments": {},
   "cell_type": "markdown",
   "metadata": {},
   "source": [
    "## 5. The Top Ten Words that Start with Each of the Vowel\n",
    "involves using FreqDist"
   ]
  },
  {
   "cell_type": "code",
   "execution_count": 11,
   "metadata": {},
   "outputs": [
    {
     "name": "stdout",
     "output_type": "stream",
     "text": [
      "a\n",
      "[('and', 8518), ('a', 3924), ('are', 2191), ('as', 1677), ('all', 869), ('at', 852), ('any', 673), ('an', 654), ('also', 397), ('another', 371)]\n",
      "e\n",
      "[('evil', 232), ('either', 174), ('every', 172), ('education', 169), ('even', 137), ('ever', 122), ('each', 106), ('end', 103), ('existence', 72), ('earth', 70)]\n",
      "i\n",
      "[('is', 4615), ('in', 4322), ('if', 712), ('into', 441), ('it', 344), ('injustice', 146), ('idea', 138), ('individual', 120), ('ideas', 101), ('ideal', 99)]\n",
      "o\n",
      "[('of', 10378), ('or', 2231), ('one', 918), ('other', 734), ('only', 631), ('on', 570), ('our', 549), ('own', 397), ('out', 251), ('order', 169)]\n",
      "u\n",
      "[('us', 436), ('up', 230), ('upon', 187), ('under', 157), ('use', 153), ('unjust', 145), ('understand', 72), ('until', 52), ('unity', 47), ('unless', 46)]\n"
     ]
    }
   ],
   "source": [
    "vowels = 'aeiou'\n",
    "result = {}\n",
    "\n",
    "def topTenVowels(text):\n",
    "    for v in vowels:\n",
    "        result[v] = [word.lower() for word in text if word.startswith(v) and word.isalpha()][:]\n",
    "\n",
    "    for i in vowels:\n",
    "        temp = FreqDist(result.get(i))\n",
    "        print(i)\n",
    "        print(temp.most_common(10))\n",
    "\n",
    "topTenVowels(platoRepublic_words)"
   ]
  },
  {
   "attachments": {},
   "cell_type": "markdown",
   "metadata": {},
   "source": [
    "## 6. A Stemmed Version of the Longest Sentence\n",
    "extracted above in 3"
   ]
  },
  {
   "cell_type": "code",
   "execution_count": null,
   "metadata": {},
   "outputs": [],
   "source": []
  }
 ],
 "metadata": {
  "kernelspec": {
   "display_name": "Python 3",
   "language": "python",
   "name": "python3"
  },
  "language_info": {
   "codemirror_mode": {
    "name": "ipython",
    "version": 3
   },
   "file_extension": ".py",
   "mimetype": "text/x-python",
   "name": "python",
   "nbconvert_exporter": "python",
   "pygments_lexer": "ipython3",
   "version": "3.9.1"
  },
  "vscode": {
   "interpreter": {
    "hash": "aee8b7b246df8f9039afb4144a1f6fd8d2ca17a180786b69acc140d282b71a49"
   }
  }
 },
 "nbformat": 4,
 "nbformat_minor": 2
}
